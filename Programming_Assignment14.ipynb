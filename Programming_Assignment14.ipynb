{
 "cells": [
  {
   "cell_type": "markdown",
   "id": "537d1c9c",
   "metadata": {},
   "source": [
    "Question 1:\n",
    "\n",
    "Define a class with a generator which can iterate the numbers, which are divisible by 7, between a given range 0 and n.\n"
   ]
  },
  {
   "cell_type": "code",
   "execution_count": 24,
   "id": "aa9fcd31",
   "metadata": {},
   "outputs": [],
   "source": [
    "class gen(object):\n",
    "    \n",
    "    def __init__(self,n):\n",
    "        self.n = n\n",
    "        \n",
    "    def fun(self):\n",
    "        for i in range(self.n):\n",
    "            if i % 7 == 0:\n",
    "                yield i"
   ]
  },
  {
   "cell_type": "code",
   "execution_count": 25,
   "id": "380bc05e",
   "metadata": {},
   "outputs": [
    {
     "name": "stdout",
     "output_type": "stream",
     "text": [
      "0\n",
      "7\n",
      "14\n",
      "21\n",
      "28\n",
      "35\n",
      "42\n",
      "49\n",
      "56\n",
      "63\n",
      "70\n",
      "77\n",
      "84\n",
      "91\n",
      "98\n"
     ]
    }
   ],
   "source": [
    "for i in gen(100).fun():\n",
    "    print(i)"
   ]
  },
  {
   "cell_type": "markdown",
   "id": "fc7ea5a5",
   "metadata": {},
   "source": [
    "Question 2:\n",
    "Write a program to compute the frequency of the words from the input. The output should output after sorting the key alphanumerically. \n",
    "\n",
    "Suppose the following input is supplied to the program:\n",
    "\n",
    "New to Python or choosing between Python 2 and Python 3? Read Python 2 or Python 3.\n",
    "\n",
    "Then, the output should be:\n",
    "\n",
    "2:2\n",
    "\n",
    "3.:1\n",
    "\n",
    "3?:1\n",
    "\n",
    "New:1\n",
    "\n",
    "Python:5\n",
    "\n",
    "Read:1\n",
    "\n",
    "and:1\n",
    "\n",
    "between:1\n",
    "\n",
    "choosing:1\n",
    "\n",
    "or:2\n",
    "\n",
    "to:1\n",
    "\n"
   ]
  },
  {
   "cell_type": "code",
   "execution_count": 43,
   "id": "d18623ef",
   "metadata": {},
   "outputs": [],
   "source": [
    "def wordcounter():\n",
    "    a = input('Enter phrase: ')\n",
    "\n",
    "    l = a.split(\" \")\n",
    "\n",
    "    count = {}\n",
    "\n",
    "    for i in l:\n",
    "        if i in count.keys():\n",
    "            count[str(i)] += 1\n",
    "        else:\n",
    "            count[str(i)] = 1\n",
    "\n",
    "    for i in count:\n",
    "        print(i,\":\",count[str(i)])\n",
    "\n"
   ]
  },
  {
   "cell_type": "code",
   "execution_count": 44,
   "id": "ae657670",
   "metadata": {},
   "outputs": [
    {
     "name": "stdout",
     "output_type": "stream",
     "text": [
      "Enter phrase: Male and Female. All classes have a method \"getGender\" which can print \"Male\" for Male class and \"Female\" for Female class.\n",
      "Male : 2\n",
      "and : 2\n",
      "Female. : 1\n",
      "All : 1\n",
      "classes : 1\n",
      "have : 1\n",
      "a : 1\n",
      "method : 1\n",
      "\"getGender\" : 1\n",
      "which : 1\n",
      "can : 1\n",
      "print : 1\n",
      "\"Male\" : 1\n",
      "for : 2\n",
      "class : 1\n",
      "\"Female\" : 1\n",
      "Female : 1\n",
      "class. : 1\n"
     ]
    }
   ],
   "source": [
    "wordcounter()"
   ]
  },
  {
   "cell_type": "markdown",
   "id": "980c9f30",
   "metadata": {},
   "source": [
    "Question 3:\n",
    "\n",
    "\n",
    "\n",
    "Define a class Person and its two child classes: Male and Female. All classes have a method \"getGender\" which can print \"Male\" for Male class and \"Female\" for Female class.\n"
   ]
  },
  {
   "cell_type": "code",
   "execution_count": 53,
   "id": "10022a6a",
   "metadata": {},
   "outputs": [],
   "source": [
    "class Person:\n",
    "    def getGender(self):\n",
    "        return \"None\"\n",
    "class Male(Person):\n",
    "    def getGender(self):\n",
    "        return 'Male'\n",
    "class Female(Person):\n",
    "    def getGender(self):\n",
    "        return 'Male'\n",
    "        "
   ]
  },
  {
   "cell_type": "markdown",
   "id": "4d32f38e",
   "metadata": {},
   "source": [
    "Question 4:\n",
    "Please write a program to generate all sentences where subject is in [\"I\", \"You\"] and verb is in [\"Play\", \"Love\"] and the object is in [\"Hockey\",\"Football\"].\n"
   ]
  },
  {
   "cell_type": "code",
   "execution_count": 61,
   "id": "4bd924ef",
   "metadata": {},
   "outputs": [],
   "source": [
    "def sentencegen():\n",
    "    subject = ['I','You']\n",
    "    verb = ['Play','Love']\n",
    "    objec = ['Hockey','Football']\n",
    "    l = []\n",
    "    for i in subject:\n",
    "        for j in verb:\n",
    "            for k in objec:\n",
    "                l.append(i+\" \"+j+\" \"+k)\n",
    "    yield l\n",
    "\n",
    "\n",
    "            "
   ]
  },
  {
   "cell_type": "code",
   "execution_count": 63,
   "id": "a1bba40c",
   "metadata": {},
   "outputs": [
    {
     "name": "stdout",
     "output_type": "stream",
     "text": [
      "I Play Hockey\n",
      "I Play Football\n",
      "I Love Hockey\n",
      "I Love Football\n",
      "You Play Hockey\n",
      "You Play Football\n",
      "You Love Hockey\n",
      "You Love Football\n"
     ]
    }
   ],
   "source": [
    "for i in sentencegen():\n",
    "    print(i)"
   ]
  },
  {
   "cell_type": "markdown",
   "id": "6f14a479",
   "metadata": {},
   "source": [
    "Question 5:\n",
    "Please write a program to compress and decompress the string \"hello world!hello world!hello world!hello world!\".\n"
   ]
  },
  {
   "cell_type": "markdown",
   "id": "7075b962",
   "metadata": {},
   "source": [
    "Question 6:\n",
    "Please write a binary search function which searches an item in a sorted list. The function should return the index of element to be searched in the list.\n"
   ]
  },
  {
   "cell_type": "code",
   "execution_count": 80,
   "id": "e97d3eb6",
   "metadata": {},
   "outputs": [],
   "source": [
    "l = [1,2,3,4,5,5]\n",
    "\n",
    "def binsearch(lst,item):\n",
    "    k = sorted(lst)\n",
    "    for i in range(len(k)):\n",
    "        if k[i] == item:\n",
    "            return i"
   ]
  },
  {
   "cell_type": "code",
   "execution_count": null,
   "id": "53b10abe",
   "metadata": {},
   "outputs": [],
   "source": []
  }
 ],
 "metadata": {
  "kernelspec": {
   "display_name": "Python 3",
   "language": "python",
   "name": "python3"
  },
  "language_info": {
   "codemirror_mode": {
    "name": "ipython",
    "version": 3
   },
   "file_extension": ".py",
   "mimetype": "text/x-python",
   "name": "python",
   "nbconvert_exporter": "python",
   "pygments_lexer": "ipython3",
   "version": "3.8.8"
  }
 },
 "nbformat": 4,
 "nbformat_minor": 5
}
