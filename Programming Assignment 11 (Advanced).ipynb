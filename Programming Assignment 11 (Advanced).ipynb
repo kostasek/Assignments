{
 "cells": [
  {
   "cell_type": "markdown",
   "id": "67c747b1",
   "metadata": {},
   "source": [
    "1. Create a function that takes a list and returns a new list containing only prime numbers.\n",
    "\n",
    "Examples\n",
    "\n",
    "filter_primes([7, 9, 3, 9, 10, 11, 27]) ➞ [7, 3, 11]\n",
    "\n",
    "filter_primes([10007, 1009, 1007, 27, 147, 77, 1001, 70]) ➞ [10007, 1009]\n",
    "\n",
    "filter_primes([1009, 10, 10, 10, 3, 33, 9, 4, 1, 61, 63, 69, 1087, 1091, 1093, 1097]) ➞ [1009, 3, 61, 1087, 1091, 1093, 1097]"
   ]
  },
  {
   "cell_type": "code",
   "execution_count": 24,
   "id": "4faa3456",
   "metadata": {},
   "outputs": [],
   "source": [
    "def filter_primes(lst):\n",
    "    l = []\n",
    "    for i in lst:\n",
    "        for j in range(2,i):\n",
    "            if i%j == 0:\n",
    "                break\n",
    "        else:\n",
    "            l.append(i)\n",
    "                \n",
    "    return l"
   ]
  },
  {
   "cell_type": "code",
   "execution_count": 25,
   "id": "320ef8ce",
   "metadata": {},
   "outputs": [
    {
     "data": {
      "text/plain": [
       "[10007, 1009]"
      ]
     },
     "execution_count": 25,
     "metadata": {},
     "output_type": "execute_result"
    }
   ],
   "source": [
    "filter_primes([10007, 1009, 1007, 27, 147, 77, 1001, 70])"
   ]
  },
  {
   "cell_type": "code",
   "execution_count": 26,
   "id": "bab475cb",
   "metadata": {},
   "outputs": [
    {
     "data": {
      "text/plain": [
       "[1009, 3, 1, 61, 1087, 1091, 1093, 1097]"
      ]
     },
     "execution_count": 26,
     "metadata": {},
     "output_type": "execute_result"
    }
   ],
   "source": [
    "filter_primes([1009, 10, 10, 10, 3, 33, 9, 4, 1, 61, 63, 69, 1087, 1091, 1093, 1097])"
   ]
  },
  {
   "cell_type": "markdown",
   "id": "3336e40e",
   "metadata": {},
   "source": [
    "2. Once a water balloon pops, is soaks the area around it. The ground gets drier the further away you travel from the balloon.\n",
    "\n",
    "The effect of a water balloon popping can be modeled using a list. Create a function that takes a list which takes the pre-pop state and returns the state after the balloon is popped. The pre-pop state will contain at most a single balloon, whose size is represented by the only non-zero element.\n",
    "\n",
    "Examples\n",
    "\n",
    "pop([0, 0, 0, 0, 4, 0, 0, 0, 0]) ➞ [0, 1, 2, 3, 4, 3, 2, 1, 0]\n",
    "\n",
    "pop([0, 0, 0, 3, 0, 0, 0]) ➞ [0, 1, 2, 3, 2, 1, 0]\n",
    "\n",
    "pop([0, 0, 2, 0, 0]) ➞ [0, 1, 2, 1, 0]\n",
    "\n",
    "pop([0]) ➞ [0]"
   ]
  },
  {
   "cell_type": "code",
   "execution_count": 79,
   "id": "402d5562",
   "metadata": {},
   "outputs": [],
   "source": [
    "def pop(lst):\n",
    "    import numpy as np\n",
    "    value = lst[int(len(lst)/2)]\n",
    "    ran = list(np.arange(value+1))\n",
    "    ranrev = ran[::-1][1:]\n",
    "    array = ran +  ranrev\n",
    "    return array"
   ]
  },
  {
   "cell_type": "code",
   "execution_count": 80,
   "id": "bcec9f0a",
   "metadata": {},
   "outputs": [
    {
     "data": {
      "text/plain": [
       "[0, 1, 2, 3, 4, 3, 2, 1, 0]"
      ]
     },
     "execution_count": 80,
     "metadata": {},
     "output_type": "execute_result"
    }
   ],
   "source": [
    "pop([0, 0, 0, 0, 4, 0, 0, 0, 0])"
   ]
  },
  {
   "cell_type": "code",
   "execution_count": 81,
   "id": "055a52ff",
   "metadata": {},
   "outputs": [
    {
     "data": {
      "text/plain": [
       "[0, 1, 2, 1, 0]"
      ]
     },
     "execution_count": 81,
     "metadata": {},
     "output_type": "execute_result"
    }
   ],
   "source": [
    "pop([0, 0, 2, 0, 0])"
   ]
  },
  {
   "cell_type": "code",
   "execution_count": 82,
   "id": "6c2c9b47",
   "metadata": {},
   "outputs": [
    {
     "data": {
      "text/plain": [
       "[0, 1, 2, 3, 4, 3, 2, 1, 0]"
      ]
     },
     "execution_count": 82,
     "metadata": {},
     "output_type": "execute_result"
    }
   ],
   "source": [
    "pop([0, 0, 0, 0, 4, 0, 0, 0, 0]) "
   ]
  },
  {
   "cell_type": "markdown",
   "id": "b029ca48",
   "metadata": {},
   "source": [
    "3. \"Loves me, loves me not\" is a traditional game in which a person plucks off all the petals of a flower one by one, saying the phrase \"Loves me\" and \"Loves me not\" when determining whether the one that they love, loves them back.\n",
    "\n",
    "Given a number of petals, return a string which repeats the phrases \"Loves me\" and \"Loves me not\" for every alternating petal, and return the last phrase in all caps. Remember to put a comma and space between phrases.\n",
    "\n",
    "Examples\n",
    "\n",
    "loves_me(3) ➞ \"Loves me, Loves me not, LOVES ME\"\n",
    "\n",
    "loves_me(6) ➞ \"Loves me, Loves me not, Loves me, Loves me not, Loves me, LOVES ME NOT\"\n",
    "\n",
    "loves_me(1) ➞ \"LOVES ME\""
   ]
  },
  {
   "cell_type": "code",
   "execution_count": 117,
   "id": "31bd5441",
   "metadata": {},
   "outputs": [],
   "source": [
    "def loves_me(number):\n",
    "    love =\"Loves me,\"\n",
    "    notlove = 'Loves me not,'\n",
    "    string = \"\"\n",
    "    for i in range(1,number+1):\n",
    "        if i % 2 == 0:\n",
    "            string += notlove\n",
    "        if i % 2 != 0:\n",
    "            string += love\n",
    "    lst = string.split(',')\n",
    "    lst[-2] = lst[-2].upper()\n",
    "    string = \",\".join(lst)\n",
    "    return string[:-1]\n",
    "        \n",
    "        "
   ]
  },
  {
   "cell_type": "code",
   "execution_count": 118,
   "id": "3f84ba44",
   "metadata": {},
   "outputs": [
    {
     "data": {
      "text/plain": [
       "'Loves me,Loves me not,LOVES ME'"
      ]
     },
     "execution_count": 118,
     "metadata": {},
     "output_type": "execute_result"
    }
   ],
   "source": [
    "loves_me(3)"
   ]
  },
  {
   "cell_type": "code",
   "execution_count": 119,
   "id": "39fbd0c2",
   "metadata": {},
   "outputs": [
    {
     "data": {
      "text/plain": [
       "'Loves me,Loves me not,Loves me,Loves me not,Loves me,LOVES ME NOT'"
      ]
     },
     "execution_count": 119,
     "metadata": {},
     "output_type": "execute_result"
    }
   ],
   "source": [
    "loves_me(6)"
   ]
  },
  {
   "cell_type": "markdown",
   "id": "0c6f4f96",
   "metadata": {},
   "source": [
    "4. Write a function that sorts each string in a list by the letter in alphabetic ascending order (a-z).\n",
    "\n",
    "Examples\n",
    "\n",
    "sort_by_letter([\"932c\", \"832u32\", \"2344b\"])\n",
    "➞ [\"2344b\", \"932c\", \"832u32\"]\n",
    "\n",
    "sort_by_letter([\"99a\", \"78b\", \"c2345\", \"11d\"])\n",
    "➞ [\"99a\", \"78b\", \"c2345\", \"11d\"]\n",
    "\n",
    "sort_by_letter([\"572z\", \"5y5\", \"304q2\"])\n",
    "➞ [\"304q2\", \"5y5\", \"572z\"]\n",
    "\n",
    "sort_by_letter([])\n",
    "➞ []"
   ]
  },
  {
   "cell_type": "code",
   "execution_count": 134,
   "id": "3de606d5",
   "metadata": {},
   "outputs": [],
   "source": [
    "def sort_by_letter(lst):\n",
    "    import numpy as np\n",
    "    letters = 'abcdefghijklmnopqrstuvwxyz'\n",
    "    l = []\n",
    "    for i in lst:\n",
    "        for j in letters:\n",
    "            if j in i:\n",
    "                l.append(j)\n",
    "    array = np.array(l)\n",
    "    sortidx = array.argsort()   \n",
    "    return [lst[i] for i in sortidx ]"
   ]
  },
  {
   "cell_type": "code",
   "execution_count": 135,
   "id": "f95ab932",
   "metadata": {},
   "outputs": [
    {
     "data": {
      "text/plain": [
       "['2344b', '932c', '832u32']"
      ]
     },
     "execution_count": 135,
     "metadata": {},
     "output_type": "execute_result"
    }
   ],
   "source": [
    "sort_by_letter([\"932c\", \"832u32\", \"2344b\"])"
   ]
  },
  {
   "cell_type": "code",
   "execution_count": 136,
   "id": "81140c76",
   "metadata": {},
   "outputs": [
    {
     "data": {
      "text/plain": [
       "['304q2', '5y5', '572z']"
      ]
     },
     "execution_count": 136,
     "metadata": {},
     "output_type": "execute_result"
    }
   ],
   "source": [
    "sort_by_letter([\"572z\", \"5y5\", \"304q2\"]) "
   ]
  },
  {
   "cell_type": "markdown",
   "id": "00754109",
   "metadata": {},
   "source": [
    "5. There are three cups on a table, at positions A, B, and C. At the start, there is a ball hidden under the cup at position B.\n",
    "\n",
    "\n",
    "\n",
    "\n",
    "\n",
    "\n",
    "However, I perform several swaps on the cups, which is notated as two letters. For example, if I swap the cups at positions A and B, I could notate this as AB or BA.\n",
    "\n",
    "Create a function that returns the letter position that the ball is at, once I finish swapping the cups. The swaps will be given to you as a list.\n",
    "\n",
    "Example\n",
    "\n",
    "cup_swapping([\"AB\", \"CA\", \"AB\"]) ➞ \"C\"\n",
    "\n",
    "# Ball begins at position B.\n",
    "# Cups A and B swap, so the ball is at position A.\n",
    "# Cups C and A swap, so the ball is at position C.\n",
    "# Cups A and B swap, but the ball is at position C, so it doesn't move."
   ]
  },
  {
   "cell_type": "code",
   "execution_count": 151,
   "id": "e30e7660",
   "metadata": {},
   "outputs": [],
   "source": [
    "def cup_swapping(lst):\n",
    "    ball = 'B'\n",
    "    for i in lst:\n",
    "        if ball in i:\n",
    "            ball = i.replace(f'{ball}',\"\")\n",
    "    return ball"
   ]
  },
  {
   "cell_type": "code",
   "execution_count": 154,
   "id": "a188bf0c",
   "metadata": {},
   "outputs": [
    {
     "data": {
      "text/plain": [
       "'C'"
      ]
     },
     "execution_count": 154,
     "metadata": {},
     "output_type": "execute_result"
    }
   ],
   "source": [
    "cup_swapping([\"AB\", \"CA\", \"AB\"])"
   ]
  },
  {
   "cell_type": "code",
   "execution_count": null,
   "id": "340b1a9e",
   "metadata": {},
   "outputs": [],
   "source": []
  }
 ],
 "metadata": {
  "kernelspec": {
   "display_name": "Python 3 (ipykernel)",
   "language": "python",
   "name": "python3"
  },
  "language_info": {
   "codemirror_mode": {
    "name": "ipython",
    "version": 3
   },
   "file_extension": ".py",
   "mimetype": "text/x-python",
   "name": "python",
   "nbconvert_exporter": "python",
   "pygments_lexer": "ipython3",
   "version": "3.8.8"
  }
 },
 "nbformat": 4,
 "nbformat_minor": 5
}
