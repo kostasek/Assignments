{
 "cells": [
  {
   "cell_type": "markdown",
   "id": "44d0036f",
   "metadata": {},
   "source": [
    "1. YouTube offers different playback speed options for users. This allows users to increase or decrease the speed of the video content. Given the actual duration and playback speed of the video, calculate the playback duration of the video.\n",
    "\n",
    "Examples\n",
    "\n",
    "playback_duration(\"00:30:00\", 2) ➞ \"00:15:00\"\n",
    "\n",
    "playback_duration(\"01:20:00\", 1.5) ➞ \"00:53:20\"\n",
    "\n",
    "playback_duration(\"51:20:09\", 0.5) ➞ \"102:40:18\""
   ]
  },
  {
   "cell_type": "code",
   "execution_count": 22,
   "id": "7ed906cf",
   "metadata": {},
   "outputs": [],
   "source": [
    "def playback_duration(time,speed):\n",
    "    hours = int(time[:2])\n",
    "    minutes = int(time[3:5])\n",
    "    sec = int(time[-2:])\n",
    "    \n",
    "    total_time_in_secs = hours*3600+minutes*60+sec\n",
    "    \n",
    "    new_time_in_secs = total_time_in_secs/speed\n",
    "    \n",
    "    new_hours = int(new_time_in_secs//3600)\n",
    "    new_mins = int((new_time_in_secs-new_hours*3600)//60)\n",
    "    new_sec = int((new_time_in_secs-new_mins*60-new_hours*3600))\n",
    "    \n",
    "    new_time = str(new_hours)+\":\"+str(new_mins)+\":\"+str(new_sec)\n",
    "    return new_time"
   ]
  },
  {
   "cell_type": "code",
   "execution_count": 23,
   "id": "68c37e3b",
   "metadata": {},
   "outputs": [
    {
     "data": {
      "text/plain": [
       "2"
      ]
     },
     "execution_count": 23,
     "metadata": {},
     "output_type": "execute_result"
    }
   ],
   "source": [
    "15 // 7"
   ]
  },
  {
   "cell_type": "code",
   "execution_count": 26,
   "id": "3a6f4a40",
   "metadata": {},
   "outputs": [
    {
     "data": {
      "text/plain": [
       "'102:40:18'"
      ]
     },
     "execution_count": 26,
     "metadata": {},
     "output_type": "execute_result"
    }
   ],
   "source": [
    "playback_duration(\"51:20:09\", 0.5)"
   ]
  },
  {
   "cell_type": "code",
   "execution_count": 27,
   "id": "15ad6d44",
   "metadata": {},
   "outputs": [
    {
     "data": {
      "text/plain": [
       "'0:53:20'"
      ]
     },
     "execution_count": 27,
     "metadata": {},
     "output_type": "execute_result"
    }
   ],
   "source": [
    "playback_duration(\"01:20:00\", 1.5)"
   ]
  },
  {
   "cell_type": "markdown",
   "id": "5053d311",
   "metadata": {},
   "source": [
    "2. We needs your help to construct a building which will be a pile of n cubes. The cube at the bottom will have a volume of n^3, the cube above will have volume of (n-1)^3 and so on until the top which will have a volume of 1^3.\n",
    "\n",
    "Given the total volume m of the building, can you find the number of cubes n required for the building?\n",
    "\n",
    "In other words, you have to return an integer n such that:\n",
    "\n",
    "n^3 + (n-1)^3 + ... + 1^3 == m\n",
    "\n",
    "Return None if there is no such number.\n",
    "\n",
    "Examples\n",
    "\n",
    "pile_of_cubes(1071225) ➞ 45\n",
    "\n",
    "pile_of_cubes(4183059834009) ➞ 2022\n",
    "\n",
    "pile_of_cubes(16) ➞ None"
   ]
  },
  {
   "cell_type": "code",
   "execution_count": 48,
   "id": "cc70da4e",
   "metadata": {},
   "outputs": [],
   "source": [
    "def pile_of_cubes(number):\n",
    "    for i in range(1,number):\n",
    "        value = i**3 + sum([j**3 for j in range(1,i)])\n",
    "        if value == number:\n",
    "            return i\n",
    "            break\n",
    "        \n",
    "    else:\n",
    "        print(None)"
   ]
  },
  {
   "cell_type": "code",
   "execution_count": 49,
   "id": "4c4d7471",
   "metadata": {},
   "outputs": [
    {
     "data": {
      "text/plain": [
       "2022"
      ]
     },
     "execution_count": 49,
     "metadata": {},
     "output_type": "execute_result"
    }
   ],
   "source": [
    "pile_of_cubes(4183059834009)"
   ]
  },
  {
   "cell_type": "code",
   "execution_count": 50,
   "id": "03c5dc2e",
   "metadata": {},
   "outputs": [
    {
     "data": {
      "text/plain": [
       "45"
      ]
     },
     "execution_count": 50,
     "metadata": {},
     "output_type": "execute_result"
    }
   ],
   "source": [
    "pile_of_cubes(1071225)"
   ]
  },
  {
   "cell_type": "code",
   "execution_count": 51,
   "id": "fa64086f",
   "metadata": {},
   "outputs": [
    {
     "name": "stdout",
     "output_type": "stream",
     "text": [
      "None\n"
     ]
    }
   ],
   "source": [
    "pile_of_cubes(16)"
   ]
  },
  {
   "cell_type": "markdown",
   "id": "bd7f7dda",
   "metadata": {},
   "source": [
    "3. A fulcrum of a list is an integer such that all elements to the left of it and all elements to the right of it sum to the same value. Write a function that finds the fulcrum of a list.\n",
    "\n",
    "To illustrate:\n",
    "\n",
    "find_fulcrum([3, 1, 5, 2, 4, 6, -1]) ➞ 2\n",
    "// Since [3, 1, 5] and [4, 6, -1] both sum to 9\n",
    "\n",
    "Examples\n",
    "\n",
    "find_fulcrum([1, 2, 4, 9, 10, -10, -9, 3]) ➞ 4\n",
    "\n",
    "find_fulcrum([9, 1, 9]) ➞ 1\n",
    "\n",
    "find_fulcrum([7, -1, 0, -1, 1, 1, 2, 3]) ➞ 0\n",
    "\n",
    "find_fulcrum([8, 8, 8, 8]) ➞ -1"
   ]
  },
  {
   "cell_type": "code",
   "execution_count": 60,
   "id": "f4f7543d",
   "metadata": {},
   "outputs": [],
   "source": [
    "def find_fulcrum(lst):\n",
    "    for i in range(1,len(lst)-1):\n",
    "        if sum(lst[:i]) == sum(lst[i+1:]):\n",
    "            return lst[i]\n",
    "        \n",
    "    "
   ]
  },
  {
   "cell_type": "code",
   "execution_count": 61,
   "id": "d15920b4",
   "metadata": {},
   "outputs": [
    {
     "data": {
      "text/plain": [
       "4"
      ]
     },
     "execution_count": 61,
     "metadata": {},
     "output_type": "execute_result"
    }
   ],
   "source": [
    "find_fulcrum([1, 2, 4, 9, 10, -10, -9, 3])"
   ]
  },
  {
   "cell_type": "code",
   "execution_count": 62,
   "id": "a116596c",
   "metadata": {},
   "outputs": [
    {
     "data": {
      "text/plain": [
       "1"
      ]
     },
     "execution_count": 62,
     "metadata": {},
     "output_type": "execute_result"
    }
   ],
   "source": [
    "find_fulcrum([9, 1, 9])"
   ]
  },
  {
   "cell_type": "code",
   "execution_count": 64,
   "id": "5e3dca2b",
   "metadata": {},
   "outputs": [
    {
     "data": {
      "text/plain": [
       "0"
      ]
     },
     "execution_count": 64,
     "metadata": {},
     "output_type": "execute_result"
    }
   ],
   "source": [
    "find_fulcrum([7, -1, 0, -1, 1, 1, 2, 3])"
   ]
  },
  {
   "cell_type": "markdown",
   "id": "8ffe0ecf",
   "metadata": {},
   "source": [
    "4. Given a list of integers representing the color of each sock, determine how many pairs of socks with matching colors there are. For example, there are 7 socks with colors [1, 2, 1, 2, 1, 3, 2]. There is one pair of color 1 and one of color 2. There are three odd socks left, one of each color. The number of pairs is 2.\n",
    "\n",
    "Create a function that returns an integer representing the number of matching pairs of socks that are available.\n",
    "\n",
    "Examples\n",
    "\n",
    "sock_merchant([10, 20, 20, 10, 10, 30, 50, 10, 20]) ➞ 3\n",
    "\n",
    "sock_merchant([50, 20, 30, 90, 30, 20, 50, 20, 90]) ➞ 4\n",
    "\n",
    "sock_merchant([]) ➞ 0"
   ]
  },
  {
   "cell_type": "code",
   "execution_count": 92,
   "id": "c8cdb6d3",
   "metadata": {},
   "outputs": [],
   "source": [
    "def sock_merchant(lst):\n",
    "    l = []\n",
    "    counter = 0\n",
    "    for i in set(lst):\n",
    "        l.append(lst.count(i))\n",
    "    for i,j in zip(set(lst),l):\n",
    "#         print(i,j)\n",
    "        if j%2 == 0 or j%2 == 1:\n",
    "            counter += j//2\n",
    "\n",
    "    return counter\n",
    "        \n",
    "        "
   ]
  },
  {
   "cell_type": "code",
   "execution_count": 90,
   "id": "0ca2a1c7",
   "metadata": {},
   "outputs": [
    {
     "data": {
      "text/plain": [
       "4"
      ]
     },
     "execution_count": 90,
     "metadata": {},
     "output_type": "execute_result"
    }
   ],
   "source": [
    "sock_merchant([50, 20, 30, 90, 30, 20, 50, 20, 90])"
   ]
  },
  {
   "cell_type": "code",
   "execution_count": 91,
   "id": "298ff362",
   "metadata": {},
   "outputs": [
    {
     "data": {
      "text/plain": [
       "3"
      ]
     },
     "execution_count": 91,
     "metadata": {},
     "output_type": "execute_result"
    }
   ],
   "source": [
    "sock_merchant([10, 20, 20, 10, 10, 30, 50, 10, 20])"
   ]
  },
  {
   "cell_type": "code",
   "execution_count": 97,
   "id": "7a8b5f93",
   "metadata": {},
   "outputs": [
    {
     "data": {
      "text/plain": [
       "0"
      ]
     },
     "execution_count": 97,
     "metadata": {},
     "output_type": "execute_result"
    }
   ],
   "source": [
    "sock_merchant([])"
   ]
  },
  {
   "cell_type": "markdown",
   "id": "c7b930c7",
   "metadata": {},
   "source": [
    "5. Create a function that takes a string containing integers as well as other characters and return the sum of the negative integers only.\n",
    "\n",
    "Examples\n",
    "\n",
    "negative_sum(\"-12 13%14&-11\") ➞ -23\n",
    "# -12 + -11 = -23\n",
    "\n",
    "negative_sum(\"22 13%14&-11-22 13 12\") ➞ -33\n",
    "# -11 + -22 = -33"
   ]
  },
  {
   "cell_type": "code",
   "execution_count": 156,
   "id": "a97a79a5",
   "metadata": {},
   "outputs": [],
   "source": [
    "def negative_sum(string):\n",
    "    counter = 0\n",
    "    import re\n",
    "    string = re.split(' |%|&',string)\n",
    "    for i in string:\n",
    "        if int(i) < 0:\n",
    "            counter += int(i)\n",
    "    return counter"
   ]
  },
  {
   "cell_type": "code",
   "execution_count": 157,
   "id": "b74a7a77",
   "metadata": {
    "scrolled": true
   },
   "outputs": [
    {
     "data": {
      "text/plain": [
       "-23"
      ]
     },
     "execution_count": 157,
     "metadata": {},
     "output_type": "execute_result"
    }
   ],
   "source": [
    "negative_sum(\"-12 13%14&-11\") "
   ]
  }
 ],
 "metadata": {
  "kernelspec": {
   "display_name": "Python 3 (ipykernel)",
   "language": "python",
   "name": "python3"
  },
  "language_info": {
   "codemirror_mode": {
    "name": "ipython",
    "version": 3
   },
   "file_extension": ".py",
   "mimetype": "text/x-python",
   "name": "python",
   "nbconvert_exporter": "python",
   "pygments_lexer": "ipython3",
   "version": "3.8.8"
  }
 },
 "nbformat": 4,
 "nbformat_minor": 5
}
