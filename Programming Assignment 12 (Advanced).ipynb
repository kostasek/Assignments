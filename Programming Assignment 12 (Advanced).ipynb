{
 "cells": [
  {
   "cell_type": "markdown",
   "id": "696ca86a",
   "metadata": {},
   "source": [
    "1. For this challenge, forget how to add two numbers together. The best explanation on what to do for this function is this meme:\n",
    "\n",
    "\n",
    "\n",
    "\n",
    "Examples\n",
    "\n",
    "meme_sum(26, 39) ➞ 515\n",
    "# 2+3 = 5, 6+9 = 15\n",
    "# 26 + 39 = 515\n",
    "\n",
    "meme_sum(122, 81) ➞ 1103\n",
    "# 1+0 = 1, 2+8 = 10, 2+1 = 3\n",
    "# 122 + 81 = 1103\n",
    "\n",
    "meme_sum(1222, 30277) ➞ 31499"
   ]
  },
  {
   "cell_type": "code",
   "execution_count": 24,
   "id": "1ffbd92d",
   "metadata": {},
   "outputs": [],
   "source": [
    "def meme_sum(nu1,nu2):\n",
    "    number1 = [i for i in str(nu1)][::-1]\n",
    "    number2 = [j for j in str(nu2)][::-1]\n",
    "    l = []\n",
    "    if len(number1)>len(number2):\n",
    "        for i in range(len(number1)-len(number2)):\n",
    "            number2.append('0')\n",
    "    elif len(number2)>len(number1):\n",
    "        for i in range(len(number2)-len(number1)):\n",
    "            number1.append('0')\n",
    "    for i in range(len(number1)):\n",
    "        l.append(str(int(number1[i])+int(number2[i])))\n",
    "    l = l[::-1]\n",
    "    value = int(\"\".join(l))\n",
    "    return value\n",
    "\n",
    "        \n",
    "            \n",
    "            "
   ]
  },
  {
   "cell_type": "code",
   "execution_count": 25,
   "id": "d518d0a8",
   "metadata": {},
   "outputs": [
    {
     "data": {
      "text/plain": [
       "31499"
      ]
     },
     "execution_count": 25,
     "metadata": {},
     "output_type": "execute_result"
    }
   ],
   "source": [
    "meme_sum(1222, 30277) "
   ]
  },
  {
   "cell_type": "code",
   "execution_count": 27,
   "id": "9ab56aa8",
   "metadata": {},
   "outputs": [
    {
     "data": {
      "text/plain": [
       "1103"
      ]
     },
     "execution_count": 27,
     "metadata": {},
     "output_type": "execute_result"
    }
   ],
   "source": [
    "meme_sum(122, 81) "
   ]
  },
  {
   "cell_type": "markdown",
   "id": "612f5f3c",
   "metadata": {},
   "source": [
    "2. Given an integer, create a function that returns the next prime. If the number is prime, return the number itself.\n",
    "\n",
    "Examples\n",
    "\n",
    "next_prime(12) ➞ 13\n",
    "\n",
    "next_prime(24) ➞ 29\n",
    "\n",
    "next_prime(11) ➞ 11\n",
    "# 11 is a prime, so we return the number itself."
   ]
  },
  {
   "cell_type": "code",
   "execution_count": 34,
   "id": "bed53cde",
   "metadata": {},
   "outputs": [],
   "source": [
    "def next_prime(number):\n",
    "    for i in range(2,number):\n",
    "        if number%i ==0:\n",
    "            for i in range(number,number**number):\n",
    "                for j in range(2,i):\n",
    "                    if i%j==0:\n",
    "                        break\n",
    "                else:\n",
    "                    return i\n",
    "        else:\n",
    "            return number"
   ]
  },
  {
   "cell_type": "code",
   "execution_count": 35,
   "id": "4fdc7880",
   "metadata": {},
   "outputs": [
    {
     "data": {
      "text/plain": [
       "11"
      ]
     },
     "execution_count": 35,
     "metadata": {},
     "output_type": "execute_result"
    }
   ],
   "source": [
    "next_prime(11)"
   ]
  },
  {
   "cell_type": "code",
   "execution_count": 36,
   "id": "ae215481",
   "metadata": {},
   "outputs": [
    {
     "data": {
      "text/plain": [
       "29"
      ]
     },
     "execution_count": 36,
     "metadata": {},
     "output_type": "execute_result"
    }
   ],
   "source": [
    "next_prime(24)"
   ]
  },
  {
   "cell_type": "markdown",
   "id": "8ad402df",
   "metadata": {},
   "source": [
    "3. If a person traveled up a hill for 18mins at 20mph and then traveled back down the same path at 60mph then their average speed traveled was 30mph.\n",
    "\n",
    "Write a function that returns the average speed traveled given an uphill time, uphill rate and a downhill rate. Uphill time is given in minutes. Return the rate as an integer (mph). No rounding is necessary.\n",
    "\n",
    "Examples\n",
    "\n",
    "ave_spd(18, 20, 60) ➞ 30\n",
    "\n",
    "ave_spd(30, 10, 30) ➞ 15\n",
    "\n",
    "ave_spd(30, 8, 24) ➞ 12"
   ]
  },
  {
   "cell_type": "code",
   "execution_count": 37,
   "id": "7fc33888",
   "metadata": {},
   "outputs": [],
   "source": [
    "def ave_spd(uphilltime,uphillspeed,downhillspeed):\n",
    "    miles = uphilltime*uphillspeed/60\n",
    "    downhilltime = miles *60/downhillspeed\n",
    "    total_time = uphilltime + downhilltime\n",
    "    return uphillspeed*(uphilltime/total_time)+downhillspeed*(downhilltime/total_time)"
   ]
  },
  {
   "cell_type": "code",
   "execution_count": 40,
   "id": "d243d68b",
   "metadata": {},
   "outputs": [
    {
     "data": {
      "text/plain": [
       "30.0"
      ]
     },
     "execution_count": 40,
     "metadata": {},
     "output_type": "execute_result"
    }
   ],
   "source": [
    "ave_spd(18, 20, 60)"
   ]
  },
  {
   "cell_type": "markdown",
   "id": "84f06731",
   "metadata": {},
   "source": [
    "4. The Kempner Function, applied to a composite number, permits to find the smallest integer greater than zero whose factorial is exactly divided by the number.\n",
    "\n",
    "kempner(6) ➞ 3\n",
    "\n",
    "1! = 1 % 6 > 0\n",
    "2! = 2 % 6 > 0\n",
    "3! = 6 % 6 === 0\n",
    "\n",
    "kempner(10) ➞ 5\n",
    "\n",
    "1! = 1 % 10 > 0\n",
    "2! = 2 % 10 > 0\n",
    "3! = 6 % 10 > 0\n",
    "4! = 24 % 10 > 0\n",
    "5! = 120 % 10 === 0\n",
    "\n",
    "A Kempner Function applied to a prime will always return the prime itself.\n",
    "\n",
    "kempner(2) ➞ 2\n",
    "kempner(5) ➞ 5\n",
    "\n",
    "Given an integer n, implement a Kempner Function.\n",
    "\n",
    "Examples\n",
    "\n",
    "kempner(6) ➞ 3\n",
    "\n",
    "kempner(10) ➞ 5\n",
    "\n",
    "kempner(2) ➞ 2"
   ]
  },
  {
   "cell_type": "code",
   "execution_count": 56,
   "id": "aab53c1a",
   "metadata": {},
   "outputs": [],
   "source": [
    "def fact(number):\n",
    "    value = 1\n",
    "    for i in range(1,number+1):\n",
    "        value *= i\n",
    "    return value\n",
    "        \n",
    "def kempner(number):\n",
    "    for i in range(1,number+1):\n",
    "        if fact(i)%number==0:\n",
    "            return i\n",
    "            "
   ]
  },
  {
   "cell_type": "code",
   "execution_count": 57,
   "id": "212bc0a7",
   "metadata": {},
   "outputs": [
    {
     "data": {
      "text/plain": [
       "5"
      ]
     },
     "execution_count": 57,
     "metadata": {},
     "output_type": "execute_result"
    }
   ],
   "source": [
    "kempner(10) "
   ]
  },
  {
   "cell_type": "code",
   "execution_count": 58,
   "id": "84054d9d",
   "metadata": {},
   "outputs": [
    {
     "data": {
      "text/plain": [
       "3"
      ]
     },
     "execution_count": 58,
     "metadata": {},
     "output_type": "execute_result"
    }
   ],
   "source": [
    "kempner(6)"
   ]
  },
  {
   "cell_type": "markdown",
   "id": "3b438f31",
   "metadata": {},
   "source": [
    "5. You work in a factory, and your job is to take items from a conveyor belt and pack them into boxes. Each box can hold a maximum of 10 kgs. Given a list containing the weight (in kg) of each item, how many boxes would you need to pack all of the items?\n",
    "\n",
    "Example\n",
    "\n",
    "boxes([2, 1, 2, 5, 4, 3, 6, 1, 1, 9, 3, 2]) ➞ 5\n",
    "\n",
    "# Box 1 = [2, 1, 2, 5] (10kg)\n",
    "# Box 2 = [4, 3] (7kg)\n",
    "# Box 3 = [6, 1, 1] (8kg)\n",
    "# Box 4 = [9] (9kg)\n",
    "# Box 5 = [3, 2] (5kg)"
   ]
  },
  {
   "cell_type": "code",
   "execution_count": 82,
   "id": "827a328f",
   "metadata": {},
   "outputs": [],
   "source": [
    "def boxes(lst):\n",
    "    weight = 0\n",
    "    boxes = 0\n",
    "    for i in lst:\n",
    "        if i+weight<=10:\n",
    "            weight +=i\n",
    "        else:\n",
    "            weight = i\n",
    "            boxes +=1\n",
    "            \n",
    "    if weight>0:\n",
    "        boxes +=1\n",
    "    return boxes"
   ]
  },
  {
   "cell_type": "code",
   "execution_count": 83,
   "id": "8a194b35",
   "metadata": {},
   "outputs": [
    {
     "data": {
      "text/plain": [
       "5"
      ]
     },
     "execution_count": 83,
     "metadata": {},
     "output_type": "execute_result"
    }
   ],
   "source": [
    "boxes([2, 1, 2, 5, 4, 3, 6, 1, 1, 9, 3, 2]) "
   ]
  },
  {
   "cell_type": "code",
   "execution_count": null,
   "id": "34ad0452",
   "metadata": {},
   "outputs": [],
   "source": []
  }
 ],
 "metadata": {
  "kernelspec": {
   "display_name": "Python 3 (ipykernel)",
   "language": "python",
   "name": "python3"
  },
  "language_info": {
   "codemirror_mode": {
    "name": "ipython",
    "version": 3
   },
   "file_extension": ".py",
   "mimetype": "text/x-python",
   "name": "python",
   "nbconvert_exporter": "python",
   "pygments_lexer": "ipython3",
   "version": "3.8.8"
  }
 },
 "nbformat": 4,
 "nbformat_minor": 5
}
